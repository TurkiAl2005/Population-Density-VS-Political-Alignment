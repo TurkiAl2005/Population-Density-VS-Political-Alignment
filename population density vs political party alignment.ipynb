{
 "cells": [
  {
   "cell_type": "code",
   "execution_count": 9,
   "id": "7e503155",
   "metadata": {},
   "outputs": [],
   "source": [
    "import os\n",
    "from pathlib import Path\n",
    "from collections import defaultdict\n",
    "\n",
    "import pandas as pd \n",
    "import numpy as np \n",
    "\n",
    "import seaborn as sns\n",
    "import matplotlib.pyplot as plt \n",
    "import plotly.express as px \n",
    "\n",
    "import patsy\n",
    "import statsmodels.api as sm\n",
    "import statsmodels.formula.api as smf\n",
    "\n",
    "import warnings\n",
    "warnings.filterwarnings('ignore')"
   ]
  },
  {
   "cell_type": "code",
   "execution_count": 10,
   "id": "a6b7d974",
   "metadata": {},
   "outputs": [
    {
     "data": {
      "text/html": [
       "<div>\n",
       "<style scoped>\n",
       "    .dataframe tbody tr th:only-of-type {\n",
       "        vertical-align: middle;\n",
       "    }\n",
       "\n",
       "    .dataframe tbody tr th {\n",
       "        vertical-align: top;\n",
       "    }\n",
       "\n",
       "    .dataframe thead th {\n",
       "        text-align: right;\n",
       "    }\n",
       "</style>\n",
       "<table border=\"1\" class=\"dataframe\">\n",
       "  <thead>\n",
       "    <tr style=\"text-align: right;\">\n",
       "      <th></th>\n",
       "      <th>State</th>\n",
       "      <th>Population</th>\n",
       "      <th>Land_Area_Sq_Mi</th>\n",
       "      <th>Population_Density</th>\n",
       "      <th>Political_Party</th>\n",
       "    </tr>\n",
       "  </thead>\n",
       "  <tbody>\n",
       "    <tr>\n",
       "      <th>0</th>\n",
       "      <td>Alabama</td>\n",
       "      <td>5024279</td>\n",
       "      <td>50645</td>\n",
       "      <td>99.205825</td>\n",
       "      <td>-15</td>\n",
       "    </tr>\n",
       "    <tr>\n",
       "      <th>1</th>\n",
       "      <td>Alaska</td>\n",
       "      <td>733391</td>\n",
       "      <td>570641</td>\n",
       "      <td>1.285206</td>\n",
       "      <td>-8</td>\n",
       "    </tr>\n",
       "    <tr>\n",
       "      <th>2</th>\n",
       "      <td>Arizona</td>\n",
       "      <td>7151502</td>\n",
       "      <td>113594</td>\n",
       "      <td>62.956688</td>\n",
       "      <td>-2</td>\n",
       "    </tr>\n",
       "    <tr>\n",
       "      <th>3</th>\n",
       "      <td>Arkansas</td>\n",
       "      <td>3011524</td>\n",
       "      <td>52035</td>\n",
       "      <td>57.874969</td>\n",
       "      <td>-16</td>\n",
       "    </tr>\n",
       "    <tr>\n",
       "      <th>4</th>\n",
       "      <td>California</td>\n",
       "      <td>39538223</td>\n",
       "      <td>155779</td>\n",
       "      <td>253.809711</td>\n",
       "      <td>13</td>\n",
       "    </tr>\n",
       "    <tr>\n",
       "      <th>5</th>\n",
       "      <td>Colorado</td>\n",
       "      <td>5773714</td>\n",
       "      <td>103642</td>\n",
       "      <td>55.708246</td>\n",
       "      <td>4</td>\n",
       "    </tr>\n",
       "    <tr>\n",
       "      <th>6</th>\n",
       "      <td>Connecticut</td>\n",
       "      <td>3605944</td>\n",
       "      <td>4842</td>\n",
       "      <td>744.722016</td>\n",
       "      <td>7</td>\n",
       "    </tr>\n",
       "    <tr>\n",
       "      <th>7</th>\n",
       "      <td>Delaware</td>\n",
       "      <td>989948</td>\n",
       "      <td>1949</td>\n",
       "      <td>507.926116</td>\n",
       "      <td>7</td>\n",
       "    </tr>\n",
       "    <tr>\n",
       "      <th>8</th>\n",
       "      <td>Florida</td>\n",
       "      <td>21538187</td>\n",
       "      <td>53625</td>\n",
       "      <td>401.644513</td>\n",
       "      <td>-3</td>\n",
       "    </tr>\n",
       "    <tr>\n",
       "      <th>9</th>\n",
       "      <td>Georgia</td>\n",
       "      <td>10711908</td>\n",
       "      <td>57513</td>\n",
       "      <td>186.251943</td>\n",
       "      <td>-3</td>\n",
       "    </tr>\n",
       "    <tr>\n",
       "      <th>10</th>\n",
       "      <td>Hawaii</td>\n",
       "      <td>1455271</td>\n",
       "      <td>6423</td>\n",
       "      <td>226.571851</td>\n",
       "      <td>14</td>\n",
       "    </tr>\n",
       "    <tr>\n",
       "      <th>11</th>\n",
       "      <td>Idaho</td>\n",
       "      <td>1839106</td>\n",
       "      <td>82643</td>\n",
       "      <td>22.253621</td>\n",
       "      <td>-18</td>\n",
       "    </tr>\n",
       "    <tr>\n",
       "      <th>12</th>\n",
       "      <td>Illinois</td>\n",
       "      <td>12812508</td>\n",
       "      <td>55519</td>\n",
       "      <td>230.776995</td>\n",
       "      <td>7</td>\n",
       "    </tr>\n",
       "    <tr>\n",
       "      <th>13</th>\n",
       "      <td>Indiana</td>\n",
       "      <td>6785528</td>\n",
       "      <td>35826</td>\n",
       "      <td>189.402334</td>\n",
       "      <td>-11</td>\n",
       "    </tr>\n",
       "    <tr>\n",
       "      <th>14</th>\n",
       "      <td>Iowa</td>\n",
       "      <td>3190369</td>\n",
       "      <td>55857</td>\n",
       "      <td>57.116727</td>\n",
       "      <td>-6</td>\n",
       "    </tr>\n",
       "    <tr>\n",
       "      <th>15</th>\n",
       "      <td>Kansas</td>\n",
       "      <td>2937880</td>\n",
       "      <td>81759</td>\n",
       "      <td>35.933414</td>\n",
       "      <td>-10</td>\n",
       "    </tr>\n",
       "    <tr>\n",
       "      <th>16</th>\n",
       "      <td>Kentucky</td>\n",
       "      <td>4505836</td>\n",
       "      <td>39486</td>\n",
       "      <td>114.112242</td>\n",
       "      <td>-16</td>\n",
       "    </tr>\n",
       "    <tr>\n",
       "      <th>17</th>\n",
       "      <td>Louisiana</td>\n",
       "      <td>4657757</td>\n",
       "      <td>43204</td>\n",
       "      <td>107.808467</td>\n",
       "      <td>-12</td>\n",
       "    </tr>\n",
       "    <tr>\n",
       "      <th>18</th>\n",
       "      <td>Maine</td>\n",
       "      <td>1362359</td>\n",
       "      <td>30843</td>\n",
       "      <td>44.170768</td>\n",
       "      <td>2</td>\n",
       "    </tr>\n",
       "    <tr>\n",
       "      <th>19</th>\n",
       "      <td>Maryland</td>\n",
       "      <td>6177224</td>\n",
       "      <td>9707</td>\n",
       "      <td>636.367982</td>\n",
       "      <td>14</td>\n",
       "    </tr>\n",
       "    <tr>\n",
       "      <th>20</th>\n",
       "      <td>Massachusetts</td>\n",
       "      <td>7029917</td>\n",
       "      <td>7800</td>\n",
       "      <td>901.271410</td>\n",
       "      <td>15</td>\n",
       "    </tr>\n",
       "    <tr>\n",
       "      <th>21</th>\n",
       "      <td>Michigan</td>\n",
       "      <td>10077331</td>\n",
       "      <td>56539</td>\n",
       "      <td>178.236810</td>\n",
       "      <td>-1</td>\n",
       "    </tr>\n",
       "    <tr>\n",
       "      <th>22</th>\n",
       "      <td>Minnesota</td>\n",
       "      <td>5706494</td>\n",
       "      <td>79627</td>\n",
       "      <td>71.665315</td>\n",
       "      <td>1</td>\n",
       "    </tr>\n",
       "    <tr>\n",
       "      <th>23</th>\n",
       "      <td>Mississippi</td>\n",
       "      <td>2961279</td>\n",
       "      <td>46923</td>\n",
       "      <td>63.109328</td>\n",
       "      <td>-11</td>\n",
       "    </tr>\n",
       "    <tr>\n",
       "      <th>24</th>\n",
       "      <td>Missouri</td>\n",
       "      <td>6154913</td>\n",
       "      <td>68742</td>\n",
       "      <td>89.536426</td>\n",
       "      <td>-10</td>\n",
       "    </tr>\n",
       "    <tr>\n",
       "      <th>25</th>\n",
       "      <td>Montana</td>\n",
       "      <td>1084225</td>\n",
       "      <td>145546</td>\n",
       "      <td>7.449363</td>\n",
       "      <td>-11</td>\n",
       "    </tr>\n",
       "    <tr>\n",
       "      <th>26</th>\n",
       "      <td>Nebraska</td>\n",
       "      <td>1961504</td>\n",
       "      <td>76824</td>\n",
       "      <td>25.532438</td>\n",
       "      <td>-13</td>\n",
       "    </tr>\n",
       "    <tr>\n",
       "      <th>27</th>\n",
       "      <td>Nevada</td>\n",
       "      <td>3104614</td>\n",
       "      <td>109781</td>\n",
       "      <td>28.280067</td>\n",
       "      <td>-1</td>\n",
       "    </tr>\n",
       "    <tr>\n",
       "      <th>28</th>\n",
       "      <td>New Hampshire</td>\n",
       "      <td>1377529</td>\n",
       "      <td>8953</td>\n",
       "      <td>153.862281</td>\n",
       "      <td>1</td>\n",
       "    </tr>\n",
       "    <tr>\n",
       "      <th>29</th>\n",
       "      <td>New Jersey</td>\n",
       "      <td>9288994</td>\n",
       "      <td>7354</td>\n",
       "      <td>1263.121295</td>\n",
       "      <td>6</td>\n",
       "    </tr>\n",
       "    <tr>\n",
       "      <th>30</th>\n",
       "      <td>New Mexico</td>\n",
       "      <td>2117522</td>\n",
       "      <td>121298</td>\n",
       "      <td>17.457188</td>\n",
       "      <td>3</td>\n",
       "    </tr>\n",
       "    <tr>\n",
       "      <th>31</th>\n",
       "      <td>New York</td>\n",
       "      <td>20201249</td>\n",
       "      <td>47126</td>\n",
       "      <td>428.664623</td>\n",
       "      <td>10</td>\n",
       "    </tr>\n",
       "    <tr>\n",
       "      <th>32</th>\n",
       "      <td>North Carolina</td>\n",
       "      <td>10439388</td>\n",
       "      <td>48618</td>\n",
       "      <td>214.722695</td>\n",
       "      <td>-3</td>\n",
       "    </tr>\n",
       "    <tr>\n",
       "      <th>33</th>\n",
       "      <td>North Dakota</td>\n",
       "      <td>779094</td>\n",
       "      <td>69001</td>\n",
       "      <td>11.291054</td>\n",
       "      <td>-20</td>\n",
       "    </tr>\n",
       "    <tr>\n",
       "      <th>34</th>\n",
       "      <td>Ohio</td>\n",
       "      <td>11799448</td>\n",
       "      <td>40861</td>\n",
       "      <td>288.770417</td>\n",
       "      <td>-6</td>\n",
       "    </tr>\n",
       "    <tr>\n",
       "      <th>35</th>\n",
       "      <td>Oklahoma</td>\n",
       "      <td>3959353</td>\n",
       "      <td>68595</td>\n",
       "      <td>57.720723</td>\n",
       "      <td>-20</td>\n",
       "    </tr>\n",
       "    <tr>\n",
       "      <th>36</th>\n",
       "      <td>Oregon</td>\n",
       "      <td>4237256</td>\n",
       "      <td>95988</td>\n",
       "      <td>44.143601</td>\n",
       "      <td>6</td>\n",
       "    </tr>\n",
       "    <tr>\n",
       "      <th>37</th>\n",
       "      <td>Pennsylvania</td>\n",
       "      <td>13002700</td>\n",
       "      <td>44743</td>\n",
       "      <td>290.608587</td>\n",
       "      <td>-2</td>\n",
       "    </tr>\n",
       "    <tr>\n",
       "      <th>38</th>\n",
       "      <td>Rhode Island</td>\n",
       "      <td>1097379</td>\n",
       "      <td>1034</td>\n",
       "      <td>1061.294971</td>\n",
       "      <td>8</td>\n",
       "    </tr>\n",
       "    <tr>\n",
       "      <th>39</th>\n",
       "      <td>South Carolina</td>\n",
       "      <td>5118425</td>\n",
       "      <td>30061</td>\n",
       "      <td>170.267955</td>\n",
       "      <td>-8</td>\n",
       "    </tr>\n",
       "    <tr>\n",
       "      <th>40</th>\n",
       "      <td>South Dakota</td>\n",
       "      <td>886667</td>\n",
       "      <td>75811</td>\n",
       "      <td>11.695757</td>\n",
       "      <td>-16</td>\n",
       "    </tr>\n",
       "    <tr>\n",
       "      <th>41</th>\n",
       "      <td>Tennessee</td>\n",
       "      <td>6910840</td>\n",
       "      <td>41235</td>\n",
       "      <td>167.596459</td>\n",
       "      <td>-14</td>\n",
       "    </tr>\n",
       "    <tr>\n",
       "      <th>42</th>\n",
       "      <td>Texas</td>\n",
       "      <td>29145505</td>\n",
       "      <td>261232</td>\n",
       "      <td>111.569429</td>\n",
       "      <td>-5</td>\n",
       "    </tr>\n",
       "    <tr>\n",
       "      <th>43</th>\n",
       "      <td>Utah</td>\n",
       "      <td>3271616</td>\n",
       "      <td>82170</td>\n",
       "      <td>39.815212</td>\n",
       "      <td>-13</td>\n",
       "    </tr>\n",
       "    <tr>\n",
       "      <th>44</th>\n",
       "      <td>Vermont</td>\n",
       "      <td>643077</td>\n",
       "      <td>9217</td>\n",
       "      <td>69.770750</td>\n",
       "      <td>16</td>\n",
       "    </tr>\n",
       "    <tr>\n",
       "      <th>45</th>\n",
       "      <td>Virginia</td>\n",
       "      <td>8631393</td>\n",
       "      <td>39490</td>\n",
       "      <td>218.571613</td>\n",
       "      <td>3</td>\n",
       "    </tr>\n",
       "    <tr>\n",
       "      <th>46</th>\n",
       "      <td>Washington</td>\n",
       "      <td>7705281</td>\n",
       "      <td>66456</td>\n",
       "      <td>115.945603</td>\n",
       "      <td>8</td>\n",
       "    </tr>\n",
       "    <tr>\n",
       "      <th>47</th>\n",
       "      <td>West Virginia</td>\n",
       "      <td>1793716</td>\n",
       "      <td>24038</td>\n",
       "      <td>74.620018</td>\n",
       "      <td>-22</td>\n",
       "    </tr>\n",
       "    <tr>\n",
       "      <th>48</th>\n",
       "      <td>Wisconsin</td>\n",
       "      <td>5893718</td>\n",
       "      <td>54158</td>\n",
       "      <td>108.824513</td>\n",
       "      <td>-2</td>\n",
       "    </tr>\n",
       "    <tr>\n",
       "      <th>49</th>\n",
       "      <td>Wyoming</td>\n",
       "      <td>576851</td>\n",
       "      <td>97093</td>\n",
       "      <td>5.941221</td>\n",
       "      <td>-25</td>\n",
       "    </tr>\n",
       "  </tbody>\n",
       "</table>\n",
       "</div>"
      ],
      "text/plain": [
       "             State  Population  Land_Area_Sq_Mi  Population_Density  \\\n",
       "0          Alabama     5024279            50645           99.205825   \n",
       "1           Alaska      733391           570641            1.285206   \n",
       "2          Arizona     7151502           113594           62.956688   \n",
       "3         Arkansas     3011524            52035           57.874969   \n",
       "4       California    39538223           155779          253.809711   \n",
       "5         Colorado     5773714           103642           55.708246   \n",
       "6      Connecticut     3605944             4842          744.722016   \n",
       "7         Delaware      989948             1949          507.926116   \n",
       "8          Florida    21538187            53625          401.644513   \n",
       "9          Georgia    10711908            57513          186.251943   \n",
       "10          Hawaii     1455271             6423          226.571851   \n",
       "11           Idaho     1839106            82643           22.253621   \n",
       "12        Illinois    12812508            55519          230.776995   \n",
       "13         Indiana     6785528            35826          189.402334   \n",
       "14            Iowa     3190369            55857           57.116727   \n",
       "15          Kansas     2937880            81759           35.933414   \n",
       "16        Kentucky     4505836            39486          114.112242   \n",
       "17       Louisiana     4657757            43204          107.808467   \n",
       "18           Maine     1362359            30843           44.170768   \n",
       "19        Maryland     6177224             9707          636.367982   \n",
       "20   Massachusetts     7029917             7800          901.271410   \n",
       "21        Michigan    10077331            56539          178.236810   \n",
       "22       Minnesota     5706494            79627           71.665315   \n",
       "23     Mississippi     2961279            46923           63.109328   \n",
       "24        Missouri     6154913            68742           89.536426   \n",
       "25         Montana     1084225           145546            7.449363   \n",
       "26        Nebraska     1961504            76824           25.532438   \n",
       "27          Nevada     3104614           109781           28.280067   \n",
       "28   New Hampshire     1377529             8953          153.862281   \n",
       "29      New Jersey     9288994             7354         1263.121295   \n",
       "30      New Mexico     2117522           121298           17.457188   \n",
       "31        New York    20201249            47126          428.664623   \n",
       "32  North Carolina    10439388            48618          214.722695   \n",
       "33    North Dakota      779094            69001           11.291054   \n",
       "34            Ohio    11799448            40861          288.770417   \n",
       "35        Oklahoma     3959353            68595           57.720723   \n",
       "36          Oregon     4237256            95988           44.143601   \n",
       "37    Pennsylvania    13002700            44743          290.608587   \n",
       "38    Rhode Island     1097379             1034         1061.294971   \n",
       "39  South Carolina     5118425            30061          170.267955   \n",
       "40    South Dakota      886667            75811           11.695757   \n",
       "41       Tennessee     6910840            41235          167.596459   \n",
       "42           Texas    29145505           261232          111.569429   \n",
       "43            Utah     3271616            82170           39.815212   \n",
       "44         Vermont      643077             9217           69.770750   \n",
       "45        Virginia     8631393            39490          218.571613   \n",
       "46      Washington     7705281            66456          115.945603   \n",
       "47   West Virginia     1793716            24038           74.620018   \n",
       "48       Wisconsin     5893718            54158          108.824513   \n",
       "49         Wyoming      576851            97093            5.941221   \n",
       "\n",
       "    Political_Party  \n",
       "0               -15  \n",
       "1                -8  \n",
       "2                -2  \n",
       "3               -16  \n",
       "4                13  \n",
       "5                 4  \n",
       "6                 7  \n",
       "7                 7  \n",
       "8                -3  \n",
       "9                -3  \n",
       "10               14  \n",
       "11              -18  \n",
       "12                7  \n",
       "13              -11  \n",
       "14               -6  \n",
       "15              -10  \n",
       "16              -16  \n",
       "17              -12  \n",
       "18                2  \n",
       "19               14  \n",
       "20               15  \n",
       "21               -1  \n",
       "22                1  \n",
       "23              -11  \n",
       "24              -10  \n",
       "25              -11  \n",
       "26              -13  \n",
       "27               -1  \n",
       "28                1  \n",
       "29                6  \n",
       "30                3  \n",
       "31               10  \n",
       "32               -3  \n",
       "33              -20  \n",
       "34               -6  \n",
       "35              -20  \n",
       "36                6  \n",
       "37               -2  \n",
       "38                8  \n",
       "39               -8  \n",
       "40              -16  \n",
       "41              -14  \n",
       "42               -5  \n",
       "43              -13  \n",
       "44               16  \n",
       "45                3  \n",
       "46                8  \n",
       "47              -22  \n",
       "48               -2  \n",
       "49              -25  "
      ]
     },
     "execution_count": 10,
     "metadata": {},
     "output_type": "execute_result"
    }
   ],
   "source": [
    "states = pd.read_csv('states_dataset.csv')\n",
    "states_path = Path('../data') / 'states_dataset.csv'\n",
    "states"
   ]
  },
  {
   "cell_type": "code",
   "execution_count": 11,
   "id": "4f5c1836",
   "metadata": {},
   "outputs": [],
   "source": [
    "#states.plot(kind = 'scatter', x = 'Political_Party', y = 'Population_Density', title = 'Data Suggests as Population Density is Higher the More Likely the State is Democratic');"
   ]
  },
  {
   "cell_type": "code",
   "execution_count": 12,
   "id": "f642272f",
   "metadata": {},
   "outputs": [
    {
     "data": {
      "application/vnd.plotly.v1+json": {
       "config": {
        "plotlyServerURL": "https://plot.ly"
       },
       "data": [
        {
         "hovertemplate": "color=Republican<br>Political_Party=%{x}<br>Population_Density=%{y}<extra></extra>",
         "legendgroup": "Republican",
         "marker": {
          "color": "red",
          "symbol": "circle"
         },
         "mode": "markers",
         "name": "Republican",
         "orientation": "v",
         "showlegend": true,
         "type": "scatter",
         "x": [
          -15,
          -8,
          -2,
          -16,
          -3,
          -3,
          -18,
          -11,
          -6,
          -10,
          -16,
          -12,
          -1,
          -11,
          -10,
          -11,
          -13,
          -1,
          -3,
          -20,
          -6,
          -20,
          -2,
          -8,
          -16,
          -14,
          -5,
          -13,
          -22,
          -2,
          -25
         ],
         "xaxis": "x",
         "y": [
          99.205825,
          1.285206,
          62.956688,
          57.874969,
          401.644513,
          186.251943,
          22.253621,
          189.402334,
          57.116727,
          35.933414,
          114.112242,
          107.808467,
          178.23681,
          63.109328,
          89.536426,
          7.449363,
          25.532438,
          28.280067,
          214.722695,
          11.291054,
          288.770417,
          57.720723,
          290.608587,
          170.267955,
          11.695757,
          167.596459,
          111.569429,
          39.815212,
          74.620018,
          108.824513,
          5.941221
         ],
         "yaxis": "y"
        },
        {
         "hovertemplate": "color=Democratic<br>Political_Party=%{x}<br>Population_Density=%{y}<extra></extra>",
         "legendgroup": "Democratic",
         "marker": {
          "color": "blue",
          "symbol": "circle"
         },
         "mode": "markers",
         "name": "Democratic",
         "orientation": "v",
         "showlegend": true,
         "type": "scatter",
         "x": [
          13,
          4,
          7,
          7,
          14,
          7,
          2,
          14,
          15,
          1,
          1,
          6,
          3,
          10,
          6,
          8,
          16,
          3,
          8
         ],
         "xaxis": "x",
         "y": [
          253.809711,
          55.708246,
          744.722016,
          507.926116,
          226.571851,
          230.776995,
          44.170768,
          636.367982,
          901.27141,
          71.665315,
          153.862281,
          1263.121295,
          17.457188,
          428.664623,
          44.143601,
          1061.294971,
          69.77075,
          218.571613,
          115.945603
         ],
         "yaxis": "y"
        }
       ],
       "layout": {
        "annotations": [
         {
          "align": "left",
          "font": {
           "size": 10
          },
          "showarrow": false,
          "text": "<b>Sources:</b> <br> United States Census Bureau<br>The Cook Political Report With Amy Walter",
          "x": 0,
          "xref": "paper",
          "y": -0.2,
          "yref": "paper"
         }
        ],
        "legend": {
         "title": {
          "text": "color"
         },
         "tracegroupgap": 0
        },
        "template": {
         "data": {
          "bar": [
           {
            "error_x": {
             "color": "#2a3f5f"
            },
            "error_y": {
             "color": "#2a3f5f"
            },
            "marker": {
             "line": {
              "color": "#E5ECF6",
              "width": 0.5
             },
             "pattern": {
              "fillmode": "overlay",
              "size": 10,
              "solidity": 0.2
             }
            },
            "type": "bar"
           }
          ],
          "barpolar": [
           {
            "marker": {
             "line": {
              "color": "#E5ECF6",
              "width": 0.5
             },
             "pattern": {
              "fillmode": "overlay",
              "size": 10,
              "solidity": 0.2
             }
            },
            "type": "barpolar"
           }
          ],
          "carpet": [
           {
            "aaxis": {
             "endlinecolor": "#2a3f5f",
             "gridcolor": "white",
             "linecolor": "white",
             "minorgridcolor": "white",
             "startlinecolor": "#2a3f5f"
            },
            "baxis": {
             "endlinecolor": "#2a3f5f",
             "gridcolor": "white",
             "linecolor": "white",
             "minorgridcolor": "white",
             "startlinecolor": "#2a3f5f"
            },
            "type": "carpet"
           }
          ],
          "choropleth": [
           {
            "colorbar": {
             "outlinewidth": 0,
             "ticks": ""
            },
            "type": "choropleth"
           }
          ],
          "contour": [
           {
            "colorbar": {
             "outlinewidth": 0,
             "ticks": ""
            },
            "colorscale": [
             [
              0,
              "#0d0887"
             ],
             [
              0.1111111111111111,
              "#46039f"
             ],
             [
              0.2222222222222222,
              "#7201a8"
             ],
             [
              0.3333333333333333,
              "#9c179e"
             ],
             [
              0.4444444444444444,
              "#bd3786"
             ],
             [
              0.5555555555555556,
              "#d8576b"
             ],
             [
              0.6666666666666666,
              "#ed7953"
             ],
             [
              0.7777777777777778,
              "#fb9f3a"
             ],
             [
              0.8888888888888888,
              "#fdca26"
             ],
             [
              1,
              "#f0f921"
             ]
            ],
            "type": "contour"
           }
          ],
          "contourcarpet": [
           {
            "colorbar": {
             "outlinewidth": 0,
             "ticks": ""
            },
            "type": "contourcarpet"
           }
          ],
          "heatmap": [
           {
            "colorbar": {
             "outlinewidth": 0,
             "ticks": ""
            },
            "colorscale": [
             [
              0,
              "#0d0887"
             ],
             [
              0.1111111111111111,
              "#46039f"
             ],
             [
              0.2222222222222222,
              "#7201a8"
             ],
             [
              0.3333333333333333,
              "#9c179e"
             ],
             [
              0.4444444444444444,
              "#bd3786"
             ],
             [
              0.5555555555555556,
              "#d8576b"
             ],
             [
              0.6666666666666666,
              "#ed7953"
             ],
             [
              0.7777777777777778,
              "#fb9f3a"
             ],
             [
              0.8888888888888888,
              "#fdca26"
             ],
             [
              1,
              "#f0f921"
             ]
            ],
            "type": "heatmap"
           }
          ],
          "heatmapgl": [
           {
            "colorbar": {
             "outlinewidth": 0,
             "ticks": ""
            },
            "colorscale": [
             [
              0,
              "#0d0887"
             ],
             [
              0.1111111111111111,
              "#46039f"
             ],
             [
              0.2222222222222222,
              "#7201a8"
             ],
             [
              0.3333333333333333,
              "#9c179e"
             ],
             [
              0.4444444444444444,
              "#bd3786"
             ],
             [
              0.5555555555555556,
              "#d8576b"
             ],
             [
              0.6666666666666666,
              "#ed7953"
             ],
             [
              0.7777777777777778,
              "#fb9f3a"
             ],
             [
              0.8888888888888888,
              "#fdca26"
             ],
             [
              1,
              "#f0f921"
             ]
            ],
            "type": "heatmapgl"
           }
          ],
          "histogram": [
           {
            "marker": {
             "pattern": {
              "fillmode": "overlay",
              "size": 10,
              "solidity": 0.2
             }
            },
            "type": "histogram"
           }
          ],
          "histogram2d": [
           {
            "colorbar": {
             "outlinewidth": 0,
             "ticks": ""
            },
            "colorscale": [
             [
              0,
              "#0d0887"
             ],
             [
              0.1111111111111111,
              "#46039f"
             ],
             [
              0.2222222222222222,
              "#7201a8"
             ],
             [
              0.3333333333333333,
              "#9c179e"
             ],
             [
              0.4444444444444444,
              "#bd3786"
             ],
             [
              0.5555555555555556,
              "#d8576b"
             ],
             [
              0.6666666666666666,
              "#ed7953"
             ],
             [
              0.7777777777777778,
              "#fb9f3a"
             ],
             [
              0.8888888888888888,
              "#fdca26"
             ],
             [
              1,
              "#f0f921"
             ]
            ],
            "type": "histogram2d"
           }
          ],
          "histogram2dcontour": [
           {
            "colorbar": {
             "outlinewidth": 0,
             "ticks": ""
            },
            "colorscale": [
             [
              0,
              "#0d0887"
             ],
             [
              0.1111111111111111,
              "#46039f"
             ],
             [
              0.2222222222222222,
              "#7201a8"
             ],
             [
              0.3333333333333333,
              "#9c179e"
             ],
             [
              0.4444444444444444,
              "#bd3786"
             ],
             [
              0.5555555555555556,
              "#d8576b"
             ],
             [
              0.6666666666666666,
              "#ed7953"
             ],
             [
              0.7777777777777778,
              "#fb9f3a"
             ],
             [
              0.8888888888888888,
              "#fdca26"
             ],
             [
              1,
              "#f0f921"
             ]
            ],
            "type": "histogram2dcontour"
           }
          ],
          "mesh3d": [
           {
            "colorbar": {
             "outlinewidth": 0,
             "ticks": ""
            },
            "type": "mesh3d"
           }
          ],
          "parcoords": [
           {
            "line": {
             "colorbar": {
              "outlinewidth": 0,
              "ticks": ""
             }
            },
            "type": "parcoords"
           }
          ],
          "pie": [
           {
            "automargin": true,
            "type": "pie"
           }
          ],
          "scatter": [
           {
            "fillpattern": {
             "fillmode": "overlay",
             "size": 10,
             "solidity": 0.2
            },
            "type": "scatter"
           }
          ],
          "scatter3d": [
           {
            "line": {
             "colorbar": {
              "outlinewidth": 0,
              "ticks": ""
             }
            },
            "marker": {
             "colorbar": {
              "outlinewidth": 0,
              "ticks": ""
             }
            },
            "type": "scatter3d"
           }
          ],
          "scattercarpet": [
           {
            "marker": {
             "colorbar": {
              "outlinewidth": 0,
              "ticks": ""
             }
            },
            "type": "scattercarpet"
           }
          ],
          "scattergeo": [
           {
            "marker": {
             "colorbar": {
              "outlinewidth": 0,
              "ticks": ""
             }
            },
            "type": "scattergeo"
           }
          ],
          "scattergl": [
           {
            "marker": {
             "colorbar": {
              "outlinewidth": 0,
              "ticks": ""
             }
            },
            "type": "scattergl"
           }
          ],
          "scattermapbox": [
           {
            "marker": {
             "colorbar": {
              "outlinewidth": 0,
              "ticks": ""
             }
            },
            "type": "scattermapbox"
           }
          ],
          "scatterpolar": [
           {
            "marker": {
             "colorbar": {
              "outlinewidth": 0,
              "ticks": ""
             }
            },
            "type": "scatterpolar"
           }
          ],
          "scatterpolargl": [
           {
            "marker": {
             "colorbar": {
              "outlinewidth": 0,
              "ticks": ""
             }
            },
            "type": "scatterpolargl"
           }
          ],
          "scatterternary": [
           {
            "marker": {
             "colorbar": {
              "outlinewidth": 0,
              "ticks": ""
             }
            },
            "type": "scatterternary"
           }
          ],
          "surface": [
           {
            "colorbar": {
             "outlinewidth": 0,
             "ticks": ""
            },
            "colorscale": [
             [
              0,
              "#0d0887"
             ],
             [
              0.1111111111111111,
              "#46039f"
             ],
             [
              0.2222222222222222,
              "#7201a8"
             ],
             [
              0.3333333333333333,
              "#9c179e"
             ],
             [
              0.4444444444444444,
              "#bd3786"
             ],
             [
              0.5555555555555556,
              "#d8576b"
             ],
             [
              0.6666666666666666,
              "#ed7953"
             ],
             [
              0.7777777777777778,
              "#fb9f3a"
             ],
             [
              0.8888888888888888,
              "#fdca26"
             ],
             [
              1,
              "#f0f921"
             ]
            ],
            "type": "surface"
           }
          ],
          "table": [
           {
            "cells": {
             "fill": {
              "color": "#EBF0F8"
             },
             "line": {
              "color": "white"
             }
            },
            "header": {
             "fill": {
              "color": "#C8D4E3"
             },
             "line": {
              "color": "white"
             }
            },
            "type": "table"
           }
          ]
         },
         "layout": {
          "annotationdefaults": {
           "arrowcolor": "#2a3f5f",
           "arrowhead": 0,
           "arrowwidth": 1
          },
          "autotypenumbers": "strict",
          "coloraxis": {
           "colorbar": {
            "outlinewidth": 0,
            "ticks": ""
           }
          },
          "colorscale": {
           "diverging": [
            [
             0,
             "#8e0152"
            ],
            [
             0.1,
             "#c51b7d"
            ],
            [
             0.2,
             "#de77ae"
            ],
            [
             0.3,
             "#f1b6da"
            ],
            [
             0.4,
             "#fde0ef"
            ],
            [
             0.5,
             "#f7f7f7"
            ],
            [
             0.6,
             "#e6f5d0"
            ],
            [
             0.7,
             "#b8e186"
            ],
            [
             0.8,
             "#7fbc41"
            ],
            [
             0.9,
             "#4d9221"
            ],
            [
             1,
             "#276419"
            ]
           ],
           "sequential": [
            [
             0,
             "#0d0887"
            ],
            [
             0.1111111111111111,
             "#46039f"
            ],
            [
             0.2222222222222222,
             "#7201a8"
            ],
            [
             0.3333333333333333,
             "#9c179e"
            ],
            [
             0.4444444444444444,
             "#bd3786"
            ],
            [
             0.5555555555555556,
             "#d8576b"
            ],
            [
             0.6666666666666666,
             "#ed7953"
            ],
            [
             0.7777777777777778,
             "#fb9f3a"
            ],
            [
             0.8888888888888888,
             "#fdca26"
            ],
            [
             1,
             "#f0f921"
            ]
           ],
           "sequentialminus": [
            [
             0,
             "#0d0887"
            ],
            [
             0.1111111111111111,
             "#46039f"
            ],
            [
             0.2222222222222222,
             "#7201a8"
            ],
            [
             0.3333333333333333,
             "#9c179e"
            ],
            [
             0.4444444444444444,
             "#bd3786"
            ],
            [
             0.5555555555555556,
             "#d8576b"
            ],
            [
             0.6666666666666666,
             "#ed7953"
            ],
            [
             0.7777777777777778,
             "#fb9f3a"
            ],
            [
             0.8888888888888888,
             "#fdca26"
            ],
            [
             1,
             "#f0f921"
            ]
           ]
          },
          "colorway": [
           "#636efa",
           "#EF553B",
           "#00cc96",
           "#ab63fa",
           "#FFA15A",
           "#19d3f3",
           "#FF6692",
           "#B6E880",
           "#FF97FF",
           "#FECB52"
          ],
          "font": {
           "color": "#2a3f5f"
          },
          "geo": {
           "bgcolor": "white",
           "lakecolor": "white",
           "landcolor": "#E5ECF6",
           "showlakes": true,
           "showland": true,
           "subunitcolor": "white"
          },
          "hoverlabel": {
           "align": "left"
          },
          "hovermode": "closest",
          "mapbox": {
           "style": "light"
          },
          "paper_bgcolor": "white",
          "plot_bgcolor": "#E5ECF6",
          "polar": {
           "angularaxis": {
            "gridcolor": "white",
            "linecolor": "white",
            "ticks": ""
           },
           "bgcolor": "#E5ECF6",
           "radialaxis": {
            "gridcolor": "white",
            "linecolor": "white",
            "ticks": ""
           }
          },
          "scene": {
           "xaxis": {
            "backgroundcolor": "#E5ECF6",
            "gridcolor": "white",
            "gridwidth": 2,
            "linecolor": "white",
            "showbackground": true,
            "ticks": "",
            "zerolinecolor": "white"
           },
           "yaxis": {
            "backgroundcolor": "#E5ECF6",
            "gridcolor": "white",
            "gridwidth": 2,
            "linecolor": "white",
            "showbackground": true,
            "ticks": "",
            "zerolinecolor": "white"
           },
           "zaxis": {
            "backgroundcolor": "#E5ECF6",
            "gridcolor": "white",
            "gridwidth": 2,
            "linecolor": "white",
            "showbackground": true,
            "ticks": "",
            "zerolinecolor": "white"
           }
          },
          "shapedefaults": {
           "line": {
            "color": "#2a3f5f"
           }
          },
          "ternary": {
           "aaxis": {
            "gridcolor": "white",
            "linecolor": "white",
            "ticks": ""
           },
           "baxis": {
            "gridcolor": "white",
            "linecolor": "white",
            "ticks": ""
           },
           "bgcolor": "#E5ECF6",
           "caxis": {
            "gridcolor": "white",
            "linecolor": "white",
            "ticks": ""
           }
          },
          "title": {
           "x": 0.05
          },
          "xaxis": {
           "automargin": true,
           "gridcolor": "white",
           "linecolor": "white",
           "ticks": "",
           "title": {
            "standoff": 15
           },
           "zerolinecolor": "white",
           "zerolinewidth": 2
          },
          "yaxis": {
           "automargin": true,
           "gridcolor": "white",
           "linecolor": "white",
           "ticks": "",
           "title": {
            "standoff": 15
           },
           "zerolinecolor": "white",
           "zerolinewidth": 2
          }
         }
        },
        "title": {
         "text": "Data Suggests States With Higher Population Density are More Likely to be Democratic"
        },
        "xaxis": {
         "anchor": "y",
         "domain": [
          0,
          1
         ],
         "title": {
          "standoff": 50,
          "text": "Political_Party"
         }
        },
        "yaxis": {
         "anchor": "x",
         "domain": [
          0,
          1
         ],
         "title": {
          "text": "Population_Density"
         }
        }
       }
      }
     },
     "metadata": {},
     "output_type": "display_data"
    }
   ],
   "source": [
    "states_vis = px.scatter(states, x = 'Political_Party', y = 'Population_Density', title = 'Data Suggests States With Higher Population Density are More Likely to be Democratic', color=np.where(states['Political_Party'] < 0, 'Republican', 'Democratic'),\n",
    "            color_discrete_map={'Republican': 'red', 'Democratic': 'blue'})\n",
    "states_vis.update_layout(\n",
    "      # Add your x-axis title\n",
    "    xaxis_title_standoff=50,  # Increase the standoff for more space below the x-axis title\n",
    "    annotations=[\n",
    "        dict(\n",
    "            xref='paper',  # x-coordinate is given in the paper coordinate system\n",
    "            yref='paper',  # y-coordinate is given in the paper coordinate system\n",
    "            x=0.0,  # X-coordinate of the annotation (left-aligned)\n",
    "            y=-0.2,  # Y-coordinate of the annotation (below the x-axis title)\n",
    "            text=\"<b>Sources:</b> <br> United States Census Bureau<br>The Cook Political Report With Amy Walter\",\n",
    " \n",
    "\n",
    "            showarrow=False,  # Do not show an arrow\n",
    "            font=dict(size=10), align = 'left'  # Adjust font size if needed\n",
    "        )\n",
    "    ]\n",
    ")\n",
    "\n",
    "\n",
    "states_vis\n",
    "\n"
   ]
  },
  {
   "cell_type": "code",
   "execution_count": 22,
   "id": "fd635ab4",
   "metadata": {},
   "outputs": [
    {
     "name": "stdout",
     "output_type": "stream",
     "text": [
      "                            OLS Regression Results                            \n",
      "==============================================================================\n",
      "Dep. Variable:        Political_Party   R-squared:                       0.276\n",
      "Model:                            OLS   Adj. R-squared:                  0.261\n",
      "Method:                 Least Squares   F-statistic:                     18.27\n",
      "Date:                Wed, 19 Feb 2025   Prob (F-statistic):           9.04e-05\n",
      "Time:                        15:41:18   Log-Likelihood:                -180.97\n",
      "No. Observations:                  50   AIC:                             365.9\n",
      "Df Residuals:                      48   BIC:                             369.8\n",
      "Df Model:                           1                                         \n",
      "Covariance Type:            nonrobust                                         \n",
      "======================================================================================\n",
      "                         coef    std err          t      P>|t|      [0.025      0.975]\n",
      "--------------------------------------------------------------------------------------\n",
      "Intercept             -7.7878      1.636     -4.760      0.000     -11.077      -4.498\n",
      "Population_Density     0.0205      0.005      4.275      0.000       0.011       0.030\n",
      "==============================================================================\n",
      "Omnibus:                        1.196   Durbin-Watson:                   2.134\n",
      "Prob(Omnibus):                  0.550   Jarque-Bera (JB):                1.170\n",
      "Skew:                           0.248   Prob(JB):                        0.557\n",
      "Kurtosis:                       2.437   Cond. No.                         429.\n",
      "==============================================================================\n",
      "\n",
      "Notes:\n",
      "[1] Standard Errors assume that the covariance matrix of the errors is correctly specified.\n"
     ]
    }
   ],
   "source": [
    "model = smf.ols(formula='Political_Party ~ Population_Density', data=states)\n",
    "results = model.fit()\n",
    "print(results.summary())"
   ]
  },
  {
   "cell_type": "markdown",
   "id": "f63ee4ed",
   "metadata": {},
   "source": [
    "This result shows that there is a significant relationship between political party alignment and population density. It also shows that the more dense a population is, the more likely it is democratic."
   ]
  },
  {
   "cell_type": "code",
   "execution_count": null,
   "id": "ad90876f",
   "metadata": {},
   "outputs": [],
   "source": []
  },
  {
   "cell_type": "code",
   "execution_count": 5,
   "id": "bcf5844e",
   "metadata": {},
   "outputs": [],
   "source": [
    "def export_fig(wp, figure, filename):\n",
    "\n",
    "    \"\"\"\n",
    "    Purpose: Save figure [figure] to path [wp]\n",
    "    \n",
    "    Params:\n",
    "    wp (str): write path containing the directory to store figure\n",
    "    figure (plotly): subject figure\n",
    "    filename (str): the file name to store [figure] \n",
    "\n",
    "    Return: None\n",
    "\n",
    "    \"\"\"\n",
    "\n",
    "    wp = os.path.join(wp, filename)\n",
    "    figure.write_html(wp)\n",
    "    print(f'Successfully saved {filename} at: {wp}')\n"
   ]
  },
  {
   "cell_type": "code",
   "execution_count": 6,
   "id": "37ef7789",
   "metadata": {},
   "outputs": [
    {
     "name": "stdout",
     "output_type": "stream",
     "text": [
      "Successfully saved states_vis.html.rtf at: ./states_vis.html.rtf\n"
     ]
    }
   ],
   "source": [
    "\n",
    "\n",
    "\n",
    "wp = Path('')\n",
    "export_fig(wp, states_vis, 'states_vis.html.rtf')"
   ]
  },
  {
   "cell_type": "code",
   "execution_count": 7,
   "id": "48751075",
   "metadata": {},
   "outputs": [],
   "source": [
    "states_vis.write_html('interactive_plot.html')"
   ]
  },
  {
   "cell_type": "code",
   "execution_count": null,
   "id": "5dce97af",
   "metadata": {},
   "outputs": [],
   "source": []
  },
  {
   "cell_type": "code",
   "execution_count": null,
   "id": "e3d0f4f6",
   "metadata": {},
   "outputs": [],
   "source": []
  }
 ],
 "metadata": {
  "kernelspec": {
   "display_name": "Python 3 (ipykernel)",
   "language": "python",
   "name": "python3"
  },
  "language_info": {
   "codemirror_mode": {
    "name": "ipython",
    "version": 3
   },
   "file_extension": ".py",
   "mimetype": "text/x-python",
   "name": "python",
   "nbconvert_exporter": "python",
   "pygments_lexer": "ipython3",
   "version": "3.12.8"
  }
 },
 "nbformat": 4,
 "nbformat_minor": 5
}
